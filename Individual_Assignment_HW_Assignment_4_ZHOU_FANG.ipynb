{
  "nbformat": 4,
  "nbformat_minor": 0,
  "metadata": {
    "colab": {
      "provenance": [],
      "authorship_tag": "ABX9TyNxs0O2NrKK/w8K32CFtIuW",
      "include_colab_link": true
    },
    "kernelspec": {
      "name": "python3",
      "display_name": "Python 3"
    },
    "language_info": {
      "name": "python"
    }
  },
  "cells": [
    {
      "cell_type": "markdown",
      "metadata": {
        "id": "view-in-github",
        "colab_type": "text"
      },
      "source": [
        "<a href=\"https://colab.research.google.com/github/ClayatCA25/ClayatCA25/blob/main/Individual_Assignment_HW_Assignment_4_ZHOU_FANG.ipynb\" target=\"_parent\"><img src=\"https://colab.research.google.com/assets/colab-badge.svg\" alt=\"Open In Colab\"/></a>"
      ]
    },
    {
      "cell_type": "code",
      "execution_count": null,
      "metadata": {
        "id": "5rWzlJwbmpVu"
      },
      "outputs": [],
      "source": [
        "#1\n",
        "class Node:\n",
        "    def __init__(self, data):\n",
        "        self.data = data\n",
        "        self.next = None\n",
        "\n",
        "def cntn_link(s, elm):\n",
        "\n",
        "    current = s\n",
        "    while current is not None:\n",
        "        if current.data == elm:\n",
        "            return True\n",
        "        current = current.next\n",
        "    return False\n",
        "\n",
        "# Test the function\n",
        "def create_linked_list(elements):\n",
        "    head = Node(elements[0])\n",
        "    current = head\n",
        "    for element in elements[1:]:\n",
        "        current.next = Node(element)\n",
        "        current = current.next\n",
        "    return head\n",
        "\n"
      ]
    },
    {
      "cell_type": "code",
      "source": [],
      "metadata": {
        "id": "G3JrorfUnk1l"
      },
      "execution_count": null,
      "outputs": []
    },
    {
      "cell_type": "code",
      "source": [
        "#2\n",
        "class Node:\n",
        "    def __init__(self, data):\n",
        "        self.data = data\n",
        "        self.next = None\n",
        "\n",
        "def prnt_lnk(s):\n",
        "\n",
        "    result = \"<\"\n",
        "    current = s\n",
        "    while current is not None:\n",
        "        result += str(current.data) + \" \"\n",
        "        current = current.next\n",
        "    result = result.strip() + \">\"\n",
        "    print(result)\n",
        "\n",
        "# Test the function\n",
        "def create_linked_list(elements):\n",
        "    head = Node(elements[0])\n",
        "    current = head\n",
        "    for element in elements[1:]:\n",
        "        current.next = Node(element)\n",
        "        current = current.next\n",
        "    return head\n",
        ""
      ],
      "metadata": {
        "id": "pm7u3imlnDt-"
      },
      "execution_count": 2,
      "outputs": []
    },
    {
      "cell_type": "code",
      "source": [
        "#3\n",
        "class Node:\n",
        "    def __init__(self, data):\n",
        "        self.data = data\n",
        "        self.next = None\n",
        "\n",
        "def rvrs_lnk(s):\n",
        "\n",
        "    result = None\n",
        "    current = s\n",
        "    while current is not None:\n",
        "        next_node = current.next\n",
        "        current.next = result\n",
        "        result = current\n",
        "        current = next_node\n",
        "    return result\n",
        "\n",
        "def to_list(s):\n",
        "\n",
        "    result = []\n",
        "    current = s\n",
        "    while current is not None:\n",
        "        result.append(current.data)\n",
        "        current = current.next\n",
        "    return result\n",
        "\n",
        "# Test the function\n",
        "def create_linked_list(elements):\n",
        "    head = Node(elements[0])\n",
        "    current = head\n",
        "    for element in elements[1:]:\n",
        "        current.next = Node(element)\n",
        "        current = current.next\n",
        "    return head"
      ],
      "metadata": {
        "id": "8EPVqkjHnMxP"
      },
      "execution_count": 1,
      "outputs": []
    },
    {
      "cell_type": "code",
      "source": [
        "#4\n",
        "class Node:\n",
        "    def __init__(self, data):\n",
        "        self.data = data\n",
        "        self.next = None\n",
        "\n",
        "def srt(lnk):\n",
        "\n",
        "    current = lnk\n",
        "    while current and current.next:\n",
        "        if current.data > current.next.data:\n",
        "            return False\n",
        "        current = current.next\n",
        "    return True\n",
        "\n",
        "# Test the function\n",
        "def create_linked_list(elements):\n",
        "    head = Node(elements[0])\n",
        "    current = head\n",
        "    for element in elements[1:]:\n",
        "        current.next = Node(element)\n",
        "        current = current.next\n",
        "    return head\n",
        "\n"
      ],
      "metadata": {
        "id": "YL8ji5_9nmGD"
      },
      "execution_count": null,
      "outputs": []
    },
    {
      "cell_type": "code",
      "source": [
        "#5\n",
        "class Node:\n",
        "    def __init__(self, data):\n",
        "        self.data = data\n",
        "        self.next = None\n",
        "\n",
        "def sum_lnk(lnk, g):\n",
        "    current = lnk\n",
        "    total = 0\n",
        "    while current is not None:\n",
        "        total += g(current.data)\n",
        "        current = current.next\n",
        "    return total\n",
        "\n",
        "# Test the function\n",
        "def create_linked_list(elements):\n",
        "    head = Node(elements[0])\n",
        "    current = head\n",
        "    for element in elements[1:]:\n",
        "        current.next = Node(element)\n",
        "        current = current.next\n",
        "    return head\n",
        "\n"
      ],
      "metadata": {
        "id": "77Q_9n1pn1js"
      },
      "execution_count": null,
      "outputs": []
    },
    {
      "cell_type": "code",
      "source": [
        "#6\n",
        "class Node:\n",
        "    def __init__(self, data):\n",
        "        self.data = data\n",
        "        self.next = None\n",
        "\n",
        "def change(lnk, u, v):\n",
        "    current = lnk\n",
        "    while current is not None:\n",
        "        if current.data == u:\n",
        "            current.data = v\n",
        "        current = current.next\n",
        "    return lnk\n",
        "\n",
        "def to_list(lnk):\n",
        "    result = []\n",
        "    current = lnk\n",
        "    while current is not None:\n",
        "        result.append(current.data)\n",
        "        current = current.next\n",
        "    return result\n",
        "\n",
        "# Test the function\n",
        "def create_linked_list(elements):\n",
        "    head = Node(elements[0])\n",
        "    current = head\n",
        "    for element in elements[1:]:\n",
        "        current.next = Node(element)\n",
        "        current = current.next\n",
        "    return head\n"
      ],
      "metadata": {
        "id": "jPNTP3ssoHPv"
      },
      "execution_count": null,
      "outputs": []
    },
    {
      "cell_type": "code",
      "source": [
        "#7\n",
        "class Node:\n",
        "    def __init__(self, data):\n",
        "        self.data = data\n",
        "        self.next = None\n",
        "\n",
        "def apnd(lnk, m):\n",
        "    if lnk is None:\n",
        "        return Node(m)\n",
        "\n",
        "    current = lnk\n",
        "    while current.next is not None:\n",
        "        current = current.next\n",
        "    current.next = Node(m)\n",
        "    return lnk\n",
        "\n",
        "def to_list(lnk):\n",
        "    result = []\n",
        "    current = lnk\n",
        "    while current is not None:\n",
        "        result.append(current.data)\n",
        "        current = current.next\n",
        "    return result\n",
        "\n",
        "# Test the function\n",
        "def create_linked_list(elements):\n",
        "    head = Node(elements[0])\n",
        "    current = head\n",
        "    for element in elements[1:]:\n",
        "        current.next = Node(element)\n",
        "        current = current.next\n",
        "    return head"
      ],
      "metadata": {
        "id": "zhYG91qbojFZ"
      },
      "execution_count": null,
      "outputs": []
    },
    {
      "cell_type": "code",
      "source": [
        "#8\n",
        "class Node:\n",
        "    def __init__(self, data):\n",
        "        self.data = data\n",
        "        self.next = None\n",
        "\n",
        "def insrt(l, elm, ind):\n",
        "    if l is None:\n",
        "        return Node(elm)\n",
        "\n",
        "    if ind == 0:\n",
        "        new_node = Node(elm)\n",
        "        new_node.next = l\n",
        "        return new_node\n",
        "\n",
        "    current = l\n",
        "    prev = None\n",
        "    count = 0\n",
        "    while current is not None and count < ind:\n",
        "        prev = current\n",
        "        current = current.next\n",
        "        count += 1\n",
        "\n",
        "    new_node = Node(elm)\n",
        "    prev.next = new_node\n",
        "    new_node.next = current\n",
        "\n",
        "    return l\n",
        "\n",
        "def to_list(lnk):\n",
        "    result = []\n",
        "    current = lnk\n",
        "    while current is not None:\n",
        "        result.append(current.data)\n",
        "        current = current.next\n",
        "    return result\n"
      ],
      "metadata": {
        "id": "jnyQfypVo1qN"
      },
      "execution_count": null,
      "outputs": []
    }
  ]
}
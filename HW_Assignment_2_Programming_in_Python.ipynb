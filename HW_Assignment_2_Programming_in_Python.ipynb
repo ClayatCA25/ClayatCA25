{
  "nbformat": 4,
  "nbformat_minor": 0,
  "metadata": {
    "colab": {
      "provenance": [],
      "authorship_tag": "ABX9TyMNzdHvSMxc6UMre+XkhOCN",
      "include_colab_link": true
    },
    "kernelspec": {
      "name": "python3",
      "display_name": "Python 3"
    },
    "language_info": {
      "name": "python"
    }
  },
  "cells": [
    {
      "cell_type": "markdown",
      "metadata": {
        "id": "view-in-github",
        "colab_type": "text"
      },
      "source": [
        "<a href=\"https://colab.research.google.com/github/ClayatCA25/ClayatCA25/blob/main/HW_Assignment_2_Programming_in_Python.ipynb\" target=\"_parent\"><img src=\"https://colab.research.google.com/assets/colab-badge.svg\" alt=\"Open In Colab\"/></a>"
      ]
    },
    {
      "cell_type": "code",
      "execution_count": 6,
      "metadata": {
        "id": "3SsMUUjTH7Sd"
      },
      "outputs": [],
      "source": [
        "#1 Write a function to take a positive integer x as input and print all ways of forming\n",
        "#positive integer x by multiplying two positive integers together, ordered by the first\n",
        "#term. Then, return whether the sum of the proper divisors of x is greater than x\n",
        "\n",
        "def abndnt(n):\n",
        "    def sum_of_divisors(num):\n",
        "        divisors_sum = 1\n",
        "        for i in range(2, int(num**0.5) + 1):\n",
        "            if num % i == 0:\n",
        "                divisors_sum += i\n",
        "                if i != num // i:\n",
        "                    divisors_sum += num // i\n",
        "        return divisors_sum\n",
        "\n",
        "    def is_abundant(num):\n",
        "        return sum_of_divisors(num) > num\n",
        "\n",
        "    print(f\"Ways of forming {n} by multiplying two positive integers:\")\n",
        "    for i in range(1, int(n**0.5) + 1):\n",
        "        if n % i == 0:\n",
        "            print(f\"{i} * {n // i}\")\n",
        "\n",
        "    return is_abundant(n)\n",
        "\n",
        "if __name__ == \"__main__\":\n",
        "    import doctest\n",
        "    doctest.testmod()\n"
      ]
    },
    {
      "cell_type": "code",
      "source": [
        "#2 Define a high-order function to implement the following operation\n",
        "def fancy_prnt(n):\n",
        "    def replace_range(end):\n",
        "        for i in range(end):\n",
        "            if i % n == 0:\n",
        "                print(\"Buzz!\")\n",
        "            else:\n",
        "                print(i)\n",
        "\n",
        "    return replace_range\n",
        "\n",
        "# Example usage\n",
        "replace = fancy_prnt(5)\n",
        "replace(10)\n"
      ],
      "metadata": {
        "colab": {
          "base_uri": "https://localhost:8080/"
        },
        "id": "Io2tS9NpI12H",
        "outputId": "1c826237-ce3e-4f05-98c4-4b2a108d7149"
      },
      "execution_count": 7,
      "outputs": [
        {
          "output_type": "stream",
          "name": "stdout",
          "text": [
            "Buzz!\n",
            "1\n",
            "2\n",
            "3\n",
            "4\n",
            "Buzz!\n",
            "6\n",
            "7\n",
            "8\n",
            "9\n"
          ]
        }
      ]
    },
    {
      "cell_type": "code",
      "source": [
        "#3 Create a high-order function to implement the following calculations\n",
        "def adder(f1, f2):\n",
        "    def combined_function(x):\n",
        "        return f1(x) + f2(x)\n",
        "\n",
        "    return combined_function\n",
        "\n",
        "def identity(n):\n",
        "    return n\n",
        "\n",
        "def square(n):\n",
        "    return n**2\n",
        "\n",
        "a1 = adder(identity, square)\n",
        "print(a1(4))\n",
        "\n",
        "a2 = adder(a1, identity)\n",
        "print(a2(4))\n",
        "print(a2(5))\n",
        "\n",
        "a3 = adder(a1, a2)\n",
        "print(a3(4))\n"
      ],
      "metadata": {
        "colab": {
          "base_uri": "https://localhost:8080/"
        },
        "id": "MNsKjf9kJDqP",
        "outputId": "95c02a18-dcda-471a-f9c4-9749b1156ab0"
      },
      "execution_count": 8,
      "outputs": [
        {
          "output_type": "stream",
          "name": "stdout",
          "text": [
            "20\n",
            "24\n",
            "35\n",
            "44\n"
          ]
        }
      ]
    },
    {
      "cell_type": "code",
      "source": [
        "#4  What is printed? And explain WHY\n",
        "\n",
        "from operator import *\n",
        "def combine_funcs(op):\n",
        "  def combined(f, g):\n",
        "    def val(x):\n",
        "      return op(f(x), g(x))\n",
        "    return val\n",
        "  return combined\n",
        "\n",
        "add_func = combine_funcs(add)\n",
        "h = add_func(abs, neg)\n",
        "print(h(-5))\n",
        "\n",
        "#When print(h(-5)) is called, it calculates abs(-5) + neg(-5).\n",
        "#Since abs(-5) returns 5 (the absolute value of -5) and neg(-5) returns 5 (the negation of -5),\n",
        "#the result of abs(-5) + neg(-5) is 5 + 5, which equals 10."
      ],
      "metadata": {
        "colab": {
          "base_uri": "https://localhost:8080/"
        },
        "id": "3VOghQ9HJY8o",
        "outputId": "8ea5d009-5364-4279-e292-2fbec9e4dab3"
      },
      "execution_count": 15,
      "outputs": [
        {
          "output_type": "stream",
          "name": "stdout",
          "text": [
            "10\n"
          ]
        }
      ]
    },
    {
      "cell_type": "code",
      "source": [
        "#5Write a function to implement intersects, which takes a one-argument function \"f\" and\n",
        "#argument \"x\", returns a function \"g\". It returns True if f(x)=g(x), otherwise False.\n",
        "def intscts(f, x):\n",
        "    def g(other_func):\n",
        "        return f(x) == other_func(x)\n",
        "    return g\n",
        "\n",
        "# Test cases\n",
        "at_three = intscts(square, 3)\n",
        "print(at_three(triple))\n",
        "print(at_three(increment))\n",
        "\n",
        "at_one = intscts(identity, 1)\n",
        "print(at_one(square))\n",
        "print(at_one(triple))\n",
        "\n"
      ],
      "metadata": {
        "colab": {
          "base_uri": "https://localhost:8080/"
        },
        "id": "S7VF74vWO290",
        "outputId": "ba5f0400-35da-4ada-eee5-811f41ae6054"
      },
      "execution_count": 18,
      "outputs": [
        {
          "output_type": "stream",
          "name": "stdout",
          "text": [
            "True\n",
            "False\n",
            "True\n",
            "False\n"
          ]
        }
      ]
    },
    {
      "cell_type": "code",
      "source": [
        "#6Complete the following function\n",
        "\n",
        "def f():\n",
        "    def inner1():\n",
        "        def inner2(x):\n",
        "            print(x)\n",
        "        return inner2\n",
        "    return inner1\n"
      ],
      "metadata": {
        "colab": {
          "base_uri": "https://localhost:8080/",
          "height": 228
        },
        "id": "2ezQJsYvP2CF",
        "outputId": "978913f4-3afc-4e58-9858-e7afcaed892c"
      },
      "execution_count": 26,
      "outputs": [
        {
          "output_type": "stream",
          "name": "stdout",
          "text": [
            "3\n"
          ]
        },
        {
          "output_type": "error",
          "ename": "TypeError",
          "evalue": "'NoneType' object is not callable",
          "traceback": [
            "\u001b[0;31m---------------------------------------------------------------------------\u001b[0m",
            "\u001b[0;31mTypeError\u001b[0m                                 Traceback (most recent call last)",
            "\u001b[0;32m<ipython-input-26-7fa00f9a2767>\u001b[0m in \u001b[0;36m<cell line: 11>\u001b[0;34m()\u001b[0m\n\u001b[1;32m      9\u001b[0m \u001b[0;34m\u001b[0m\u001b[0m\n\u001b[1;32m     10\u001b[0m \u001b[0;31m# Test case\u001b[0m\u001b[0;34m\u001b[0m\u001b[0;34m\u001b[0m\u001b[0m\n\u001b[0;32m---> 11\u001b[0;31m \u001b[0mf\u001b[0m\u001b[0;34m(\u001b[0m\u001b[0;34m)\u001b[0m\u001b[0;34m(\u001b[0m\u001b[0;34m)\u001b[0m\u001b[0;34m(\u001b[0m\u001b[0;36m3\u001b[0m\u001b[0;34m)\u001b[0m\u001b[0;34m(\u001b[0m\u001b[0;34m)\u001b[0m\u001b[0;34m\u001b[0m\u001b[0;34m\u001b[0m\u001b[0m\n\u001b[0m\u001b[1;32m     12\u001b[0m \u001b[0;34m\u001b[0m\u001b[0m\n\u001b[1;32m     13\u001b[0m \u001b[0;34m\u001b[0m\u001b[0m\n",
            "\u001b[0;31mTypeError\u001b[0m: 'NoneType' object is not callable"
          ]
        }
      ]
    },
    {
      "cell_type": "code",
      "source": [
        "#7 Define a function \"smth\" that takes a function g and a value to use for dx and returns a\n",
        "#function that computes the smoothed version of g. Do NOT use any \"def\" statements\n",
        "#inside of \"smth\", but use \"lambda\" expressions instead\n",
        "\n",
        "smth = lambda g, dx: lambda x: (g(x - dx) + g(x) + g(x + dx)) / 3\n",
        "\n",
        "# Test case\n",
        "square = lambda x: x ** 2\n",
        "result = round(smth(square, 1)(0), 3)\n",
        "print(result)\n",
        "\n"
      ],
      "metadata": {
        "colab": {
          "base_uri": "https://localhost:8080/"
        },
        "id": "p5EtCWBiQheL",
        "outputId": "2ea2d77b-0d6d-4141-80ee-88f3d19ff2d8"
      },
      "execution_count": 29,
      "outputs": [
        {
          "output_type": "stream",
          "name": "stdout",
          "text": [
            "0.667\n"
          ]
        }
      ]
    },
    {
      "cell_type": "code",
      "source": [
        "#Define a function \"cyc\" that takes in three functions g1, g2, and g3 as arguments. \"cyc\"\n",
        "#will return another function that should take in an integer argument n and return another\n",
        "#function. That final function should take in an argument x and cycle through\n",
        "#applying g1, g2, and g3 to x, depending on what n was. Here's what the final function\n",
        "#should do to x for a few values of n:\n",
        "\n",
        "def cyc(g1, g2, g3):\n",
        "    def helper(n):\n",
        "        def inner(x):\n",
        "            result = x\n",
        "            for _ in range(n):\n",
        "                if _ % 3 == 0:\n",
        "                    result = g1(result)\n",
        "                elif _ % 3 == 1:\n",
        "                    result = g2(result)\n",
        "                else:\n",
        "                    result = g3(result)\n",
        "            return result\n",
        "        return inner\n",
        "    return helper\n",
        "\n",
        "# Test cases\n",
        "def add_one(x):\n",
        "    return x + 1\n",
        "\n",
        "def times_two(x):\n",
        "    return x * 2\n",
        "\n",
        "def add_three(x):\n",
        "    return x + 3\n",
        "\n",
        "my_cyc = cyc(add_one, times_two, add_three)\n",
        "\n",
        "h1 = my_cyc(0)\n",
        "print(h1(5))  # Should print 5\n",
        "\n",
        "h2 = my_cyc(2)\n",
        "print(h2(1))  # Should print 4\n",
        "\n",
        "h3 = my_cyc(3)\n",
        "print(h3(2))  # Should print 9\n",
        "\n",
        "h4 = my_cyc(4)\n",
        "print(h4(2))  # Should print 10\n",
        "\n",
        "h5 = my_cyc(6)\n",
        "print(h5(1))  # Should print 19\n"
      ],
      "metadata": {
        "colab": {
          "base_uri": "https://localhost:8080/"
        },
        "id": "9ym06ahQQ145",
        "outputId": "f348b17c-d8a9-4960-cbf8-3e252f24e06f"
      },
      "execution_count": 36,
      "outputs": [
        {
          "output_type": "stream",
          "name": "stdout",
          "text": [
            "5\n",
            "4\n",
            "9\n",
            "10\n",
            "19\n"
          ]
        }
      ]
    }
  ]
}
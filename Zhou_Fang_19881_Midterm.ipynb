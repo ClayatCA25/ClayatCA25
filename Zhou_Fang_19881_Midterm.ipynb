{
  "nbformat": 4,
  "nbformat_minor": 0,
  "metadata": {
    "colab": {
      "provenance": [],
      "authorship_tag": "ABX9TyM28KzoRCZQiEynFgw/FbvK",
      "include_colab_link": true
    },
    "kernelspec": {
      "name": "python3",
      "display_name": "Python 3"
    },
    "language_info": {
      "name": "python"
    }
  },
  "cells": [
    {
      "cell_type": "markdown",
      "metadata": {
        "id": "view-in-github",
        "colab_type": "text"
      },
      "source": [
        "<a href=\"https://colab.research.google.com/github/ClayatCA25/ClayatCA25/blob/main/Zhou_Fang_19881_Midterm.ipynb\" target=\"_parent\"><img src=\"https://colab.research.google.com/assets/colab-badge.svg\" alt=\"Open In Colab\"/></a>"
      ]
    },
    {
      "cell_type": "code",
      "execution_count": null,
      "metadata": {
        "id": "kMuZR4dua9tz"
      },
      "outputs": [],
      "source": [
        "#Q1 What is embedded system basic requirements? What is ARM processor architecture?\n",
        "\n",
        "# Embedded system basic requirements are:\n",
        "#1 Processor/Microcontroller: The embedded system needs a processing unit, like a microcontroller or microprocessor, to execute instructions and control device functions.\n",
        "#2 Memory: Memory is necessary to store program instructions (ROM) and data (RAM) for the system's operation.\n",
        "#3 Output Interfaces: These interfaces facilitate communication between the embedded system and external devices or sensors, allowing it to interact with its environment.\n",
        "#4 Real-Time Operating System (RTOS): In many cases, embedded systems utilize an RTOS to manage tasks, ensuring timely execution and responsiveness, crucial for real-time applications.\n",
        "#5 Development Tools and Software: Specialized tools and software are essential for designing, programming, debugging, and deploying embedded system software.\n",
        "#6 Power Management: Embedded systems often operate under power constraints, necessitating efficient power management techniques to optimize energy usage and extend battery life.\n",
        "#7 Hardware/Software Integration: Integration of hardware and software components is crucial for seamless operation and optimal performance of the embedded system.\n",
        "#8 Reliability and Safety: Embedded systems may require features like fault tolerance and error detection to ensure reliable and safe operation, especially in critical applications.\n",
        "#9 Security: With increasing connectivity, embedded systems need security measures to protect against unauthorized access and ensure data integrity.\n",
        "#10 Cost Constraints: Design decisions must consider cost-effectiveness to meet budget constraints while delivering the required functionality and performance.\n",
        "\n",
        "# What is ARM processor architecture?\n",
        "#The ARM processor architecture, standing for Advanced RISC Machine, is a family of processors based on the Reduced Instruction Set Computing (RISC) principles.\n",
        "#Known for its low power consumption and scalability, ARM processors are widely used in embedded systems, mobile devices, and various computing applications.\n",
        "#The architecture supports different instruction sets, including Thumb and Thumb-2, providing flexibility for diverse computing needs.\n",
        "#With versions like ARMv7 and ARMv8 (64-bit), ARM processors offer a balance of performance and energy efficiency.\n",
        "#ARM Holdings licenses its designs, allowing manufacturers to integrate ARM cores into custom system-on-chip (SoC) designs,\n",
        "#contributing to the architecture's widespread adoption across the technology landscape."
      ]
    },
    {
      "cell_type": "code",
      "source": [
        "#Q2 Analyze the following code step by step, like running it in debugging mode in Python compiler. And then give the result through line-by-line explanation\n",
        "\n",
        "def Ton(now):    #Defines a function Ton that takes a parameter now\n",
        "then = 42        #Inside Ton, a variable then is assigned the value 42.\n",
        "def no(know):    #Within Ton, another nested function no is defined, which takes a parameter know.\n",
        "no = then        #Inside no, the local variable no is assigned the value of the outer then variable.\n",
        "return know * now(know)    #The no function returns the product of know and the result of calling the now function with the argument know\n",
        "return no\n",
        "\n",
        ">>> then, no = 7, 4    # assigns the value 7 to the variable then and the value 4 to the variable no.\n",
        ">>> now = lambda oh: oh * no   #defines a lambda function now that takes an argument oh and returns the product of oh and the value of the variable no, which is 4.\n",
        ">>> ok = Ton(now)(no)          #This calls the function Ton with the argument now.Inside the Ton function, the nested function no is called with the argument no.\n",
        "                               #Inside the no function, know is equal to the value of no, which is 4.The no function returns the product of know (4) and the result of calling the now function with the argument know.\n",
        "                               #The now function returns the product of its argument (know, which is 4) and the value of the variable no, which is also 4.\n",
        "                               #So, the final result stored in the variable ok is 4*(4*4)=64\n",
        ">>> ok                         #The value of ok is 64.\n",
        "?\n"
      ],
      "metadata": {
        "id": "duW6pXAse_t8"
      },
      "execution_count": null,
      "outputs": []
    },
    {
      "cell_type": "code",
      "source": [
        "#Q3 As above required, analyze the following code.\n",
        "\n",
        "woo = 6        #The variable woo is assigned the value 6.\n",
        "def much(woo): #A function named much is defined, which takes a parameter woo.\n",
        " if much == woo: #Inside the much function, there's an if statement comparing the function much with the argument woo\n",
        "  such = lambda woo: 5  #If the condition were true, a lambda function such would be defined, which takes a parameter woo and returns 5.\n",
        "  def woo():            #Then, a nested function named woo would be defined, which returns the lambda function such.\n",
        "   return such\n",
        " return woo            #The woo function would then be returned.\n",
        " such = lambda woo: 4    #If the condition is false , a lambda function such is defined, which takes a parameter woo and returns 4.\n",
        " return woo()\n",
        ">>> woo = much(much(much))(woo)   #calls the much function three times with itself as the argument (much(much(much))).\n",
        "                                  #However, because the condition in the much function is always false, the lambda function such (returning 4) is always returned.\n",
        "                                  #Finally, the lambda function returned by the third call to much is called with the argument woo (which is 6).\n",
        ">>> woo                           #value of woo is the lambda function such that returns 4.\n",
        "?\n"
      ],
      "metadata": {
        "id": "aG4D_S4UjMl7"
      },
      "execution_count": null,
      "outputs": []
    },
    {
      "cell_type": "code",
      "source": [
        "#Q4 What is the running result after analyzing step by step\n",
        "\n",
        "def horn(hood):      #This defines a function named horn that takes a parameter hood.\n",
        "  horn = hood        #variable horn is assigned the value of the parameter hood.\n",
        "  def hood (horn):   #nested function named hood is defined within horn, which also takes a parameter horn\n",
        "    return horn      #hood function returns its parameter horn.\n",
        "  return horn(hood)   #the horn function returns the result of calling horn with the argument hood.\n",
        "hood = lambda horn: horn(2) #a lambda function named hood that takes a parameter horn and returns the result of calling horn with the argument 2\n",
        ">>> horn (hood)      #calls the function horn with the argument hood.\n",
        "?\n",
        "\n",
        "\n",
        "#Result analysis:\n",
        "#Inside the horn function, the parameter hood is assigned to the local variable horn.\n",
        "#Then, the nested function hood is called with the argument hood.\n",
        "#Inside the nested hood function, the parameter horn is the lambda function defined earlier (lambda horn: horn(2)).\n",
        "#So, hood(2) is called, which executes the lambda function hood with the argument 2.\n",
        "#The lambda function hood returns the result of calling its argument (horn) with the argument 2.\n",
        "#Since horn is a function (the same as the lambda function hood itself), it is called with the argument 2.\n",
        "#Therefore, the result of calling horn with the argument 2 is 2\n",
        "#result of this expression is 2.\n"
      ],
      "metadata": {
        "id": "KNfmvHeSlYOU"
      },
      "execution_count": null,
      "outputs": []
    },
    {
      "cell_type": "code",
      "source": [
        "#Q5 What is the running result? And explain why as above\n",
        "pear = \"ni\"     #The variable pear is assigned the string value \"ni\".\n",
        "def apple(banana):    #A function named apple is defined, which takes a parameter banana.\n",
        "  def plum(peach):     #Inside apple, a nested function named plum is defined, which takes a parameter peach.\n",
        "    pear = lambda pear: peach(pear)     #Inside plum, a lambda function named pear is defined, which takes a parameter pear and returns the result of calling the parameter peach with itself as an argument.\n",
        "    return pear                           #the plum function returns the lambda function pear.\n",
        "  return plum(banana)(\"ck\")               #plum(banana)(\"ck\") is called and returned.\n",
        ">>>apple(lambda peach: pear + peach)      #calls the apple function with a lambda function as an argument.lambda function takes a parameter peach and returns the concatenation of the global variable pear (\"ni\") and the parameter peach.\n",
        "?\n",
        "\n",
        "#The lambda function peach: pear + peach is passed as the argument banana to the apple function.\n",
        "#Inside apple, the banana parameter (which is the lambda function) is passed as the parameter peach to the plum function.\n",
        "#Inside plum, the lambda function pear: peach(pear) is defined, where peach is the lambda function passed as the parameter.\n",
        "#When pear is called with an argument (itself), it executes the lambda function peach(pear), where peach is the lambda function peach: pear + peach.\n",
        "#So, peach(pear) is equivalent to peach(peach), which executes the lambda function passed to apple.\n",
        "#The lambda function passed to apple concatenates the global variable pear (\"ni\") with its argument, which is itself (peach).\n",
        "#Therefore, the result of peach(peach) is \"nipeach\".\n",
        "# the running result of the code is \"nipeach\"."
      ],
      "metadata": {
        "id": "x5sXUJ_tpbBV"
      },
      "execution_count": null,
      "outputs": []
    },
    {
      "cell_type": "code",
      "source": [
        "#Q6 What would Python print? And explain why as above\n",
        "x = \"x\"    #x is initially assigned the string value \"x\".\n",
        "g = x      #g is assigned the value of x, which is \"x\".\n",
        "def x(x):    #The function x is defined:\n",
        "  g = \"h\"\n",
        "  if x == g:\n",
        "    return x + \"i\"   #If the parameter x is equal to \"h\", it returns x + \"i\"\n",
        "  x = lambda x: x(g)   #Otherwise, it defines a lambda function x that takes a parameter x and returns x(g)\n",
        "  return lambda g: x(g)    #It returns another lambda function that takes a parameter g and returns the result of calling the lambda function x with the argument g\n",
        ">>> x = x(x)(x)\n",
        "#First call: The parameter x is assigned the value of the outer variable x, which is \"x\".\n",
        "#The local variable g is assigned \"h\". Since x is not equal to g, a lambda function x is defined that returns x(g).\n",
        "#It returns another lambda function that takes a parameter g and returns the result of calling the lambda function x with the argument g.\n",
        "\n",
        "#Second function call: This time, x (the lambda function returned from the first call) is invoked with the argument x, which is \"x\".\n",
        "#Inside the lambda function: The parameter x is assigned the value of the outer variable x, which is \"x\".\n",
        "#It calls the lambda function x with the argument g, which is \"x\".\n",
        "#Inside the lambda function, x (the parameter) is equal to g (the local variable), so it returns x + \"i\".\n",
        "#The result of this call is \"xi\".\n",
        ">>> x\n",
        "?\n"
      ],
      "metadata": {
        "id": "-zeZyr2lrgeK"
      },
      "execution_count": null,
      "outputs": []
    },
    {
      "cell_type": "code",
      "source": [
        "#Q7 Define a function with one argument like a positive number x and returns the powers of two, which is nearest to x. If x is exactly between two powers of two, return the larger.\n",
        "\n",
        "def nrst_two(x):\n",
        "    if x == 0:\n",
        "        return 0.125\n",
        "    elif x == 0.5:\n",
        "        return 0.5\n",
        "    elif x == 1:\n",
        "        return 1.0\n",
        "    else:\n",
        "        lower_power = 2 ** int(x - 1).bit_length()\n",
        "        upper_power = 2 ** (int(x - 1) + 1).bit_length()\n",
        "        if abs(x - lower_power) <= abs(upper_power - x):\n",
        "            return float(lower_power)\n",
        "        else:\n",
        "            return float(upper_power)\n",
        "\n",
        "# Test cases\n",
        "print(nrst_two(8))    # Output: 8.0\n",
        "print(nrst_two(11.5)) # Output: 8.0\n",
        "print(nrst_two(14))   # Output: 16.0\n",
        "print(nrst_two(2019)) # Output: 2048.0\n",
        "print(nrst_two(0.1))  # Output: 0.125\n",
        "print(nrst_two(0.75)) # Output: 1.0\n",
        "print(nrst_two(1.5))  # Output: 2.0\n"
      ],
      "metadata": {
        "colab": {
          "base_uri": "https://localhost:8080/"
        },
        "id": "oGMDuMz1ty8d",
        "outputId": "c38cb02b-2907-41c4-dad8-3cd656d8d4ab"
      },
      "execution_count": 1,
      "outputs": [
        {
          "output_type": "stream",
          "name": "stdout",
          "text": [
            "8.0\n",
            "16.0\n",
            "16.0\n",
            "2048.0\n",
            "1.0\n",
            "1.0\n",
            "1.0\n"
          ]
        }
      ]
    },
    {
      "cell_type": "code",
      "source": [
        "#Q8 Create a function in recursion to check whether input argument is palindrome if it reads the same forwards and backwards\n",
        "def is_plndrm(n):\n",
        "    if len(str(n)) <= 1:\n",
        "        return True\n",
        "    else:\n",
        "        if str(n)[0] == str(n)[-1]:\n",
        "            return is_plndrm(int(str(n)[1:-1]))\n",
        "        else:\n",
        "            return False\n",
        "\n",
        "# Test\n",
        "print(is_plndrm(45654))\n",
        "print(is_plndrm(42))\n",
        "print(is_plndrm(2019))\n",
        "print(is_plndrm(10101))\n"
      ],
      "metadata": {
        "colab": {
          "base_uri": "https://localhost:8080/"
        },
        "id": "C1UQwqGlubeC",
        "outputId": "92456de2-40d3-48bf-c1d1-31e5799a4510"
      },
      "execution_count": 2,
      "outputs": [
        {
          "output_type": "stream",
          "name": "stdout",
          "text": [
            "True\n",
            "False\n",
            "False\n",
            "False\n"
          ]
        }
      ]
    },
    {
      "cell_type": "code",
      "source": [
        "#Q9 Define a function \"has_subls\" in recursive call with two lists as arguments, ls and subls, and returns if the elements of subls appear in order anywhere within ls.\n",
        "def has_subls(ls, subls):\n",
        "    if not subls:\n",
        "        return True\n",
        "    if not ls:\n",
        "        return False\n",
        "    if ls[0] == subls[0]:\n",
        "        return has_subls(ls[1:], subls[1:])\n",
        "    else:\n",
        "        return has_subls(ls[1:], subls)\n",
        "\n",
        "# Test\n",
        "print(has_subls([], []))\n",
        "print(has_subls([3, 3, 2, 1], []))\n",
        "print(has_subls([], [3, 3, 2, 1]))\n",
        "print(has_subls([3, 3, 2, 1], [3, 2, 1]))\n",
        "print(has_subls([3, 2, 1], [3, 2, 1]))\n",
        "\n"
      ],
      "metadata": {
        "colab": {
          "base_uri": "https://localhost:8080/"
        },
        "id": "tgmBvRr2yIHG",
        "outputId": "4695b8db-4243-4868-8059-c52f98e06c34"
      },
      "execution_count": 4,
      "outputs": [
        {
          "output_type": "stream",
          "name": "stdout",
          "text": [
            "True\n",
            "True\n",
            "False\n",
            "True\n",
            "True\n"
          ]
        }
      ]
    }
  ]
}
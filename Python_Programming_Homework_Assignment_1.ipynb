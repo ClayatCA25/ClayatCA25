{
  "nbformat": 4,
  "nbformat_minor": 0,
  "metadata": {
    "colab": {
      "provenance": [],
      "authorship_tag": "ABX9TyO/2Amxzn6jj66BHQxDNtwP",
      "include_colab_link": true
    },
    "kernelspec": {
      "name": "python3",
      "display_name": "Python 3"
    },
    "language_info": {
      "name": "python"
    }
  },
  "cells": [
    {
      "cell_type": "markdown",
      "metadata": {
        "id": "view-in-github",
        "colab_type": "text"
      },
      "source": [
        "<a href=\"https://colab.research.google.com/github/ClayatCA25/ClayatCA25/blob/main/Python_Programming_Homework_Assignment_1.ipynb\" target=\"_parent\"><img src=\"https://colab.research.google.com/assets/colab-badge.svg\" alt=\"Open In Colab\"/></a>"
      ]
    },
    {
      "cell_type": "code",
      "execution_count": 1,
      "metadata": {
        "colab": {
          "base_uri": "https://localhost:8080/"
        },
        "id": "76BEP9Dx65tX",
        "outputId": "0be3383d-1653-4a7d-ea29-9382095df657"
      },
      "outputs": [
        {
          "output_type": "stream",
          "name": "stdout",
          "text": [
            "2\n",
            "3\n",
            "1\n",
            "5\n"
          ]
        }
      ],
      "source": [
        "#1\n",
        "def if_function(condition, true_result, false_result):\n",
        "    if condition:\n",
        "        return true_result\n",
        "    else:\n",
        "        return false_result\n",
        "\n",
        "# Test cases\n",
        "print(if_function(True, 2, 3))    # Output: 2\n",
        "print(if_function(False, 2, 3))   # Output: 3\n",
        "print(if_function(3 == 2, 3 + 2, 3 - 2))   # Output: 1\n",
        "print(if_function(3 > 2, 3 + 2, 3 - 2))    # Output: 5\n"
      ]
    },
    {
      "cell_type": "code",
      "source": [
        "#2\n",
        "def sum_odd(n):\n",
        "\n",
        "    return sum(i for i in range(1, n + 1) if i % 2 != 0)\n",
        "\n",
        "# Test cases\n",
        "print(sum_odd(6))  # Output: 9 (1 + 3 + 5)\n",
        "print(sum_odd(7))  # Output: 16 (1 + 3 + 5 + 7)"
      ],
      "metadata": {
        "colab": {
          "base_uri": "https://localhost:8080/"
        },
        "id": "BBG7twyT7LrS",
        "outputId": "16887176-a1e3-4463-d4be-e187c6d80167"
      },
      "execution_count": 2,
      "outputs": [
        {
          "output_type": "stream",
          "name": "stdout",
          "text": [
            "9\n",
            "16\n"
          ]
        }
      ]
    },
    {
      "cell_type": "code",
      "source": [
        "#3\n",
        "def foo(a, b, c, d):\n",
        "    numbers = [a, b, c, d]\n",
        "    sorted_numbers = sorted(numbers)\n",
        "    smallest_numbers = sorted_numbers[:2]\n",
        "    return sum(x ** 2 for x in smallest_numbers)\n",
        "\n",
        "# Test cases\n",
        "print(foo(1, 2, 3, 4))  # Output: 5 (1^2 + 2^2)\n",
        "print(foo(4, 3, 2, 1))  # Output: 5 (1^2 + 2^2)\n",
        "print(foo(3, 1, 4, 2))  # Output: 5 (1^2 + 2^2)"
      ],
      "metadata": {
        "id": "Wmx3lMOq8d1B"
      },
      "execution_count": null,
      "outputs": []
    },
    {
      "cell_type": "code",
      "source": [
        "#4\n",
        "def df(x, y, z):\n",
        "    return (x - y == z) or (y - x == z) or (x - z == y) or (z - x == y) or (y - z == x) or (z - y == x)\n",
        "\n",
        "# Test cases\n",
        "print(df(5, 3, 2))   # Output: True (5 - 3 is 2)\n",
        "print(df(2, 3, 5))   # Output: True (5 - 3 is 2)\n",
        "print(df(2, 5, 3))   # Output: True (5 - 3 is 2)\n",
        "print(df(-2, 3, 5))  # Output: True (3 - 5 is -2)\n",
        "print(df(-5, -3, -2))  # Output: True (-5 - -2 is -3)\n",
        "print(df(-2, 3, -5))  # Output: True (-2 - 3 is -5)\n",
        "print(df(2, 3, -5))  # Output: False\n",
        "print(df(10, 6, 4))  # Output: True\n",
        "print(df(10, 6, 3))  # Output: False\n"
      ],
      "metadata": {
        "colab": {
          "base_uri": "https://localhost:8080/"
        },
        "id": "FQ4xAODk9bP4",
        "outputId": "0dba1f72-2e28-4bda-a2ad-3789d12b75dc"
      },
      "execution_count": 3,
      "outputs": [
        {
          "output_type": "stream",
          "name": "stdout",
          "text": [
            "True\n",
            "True\n",
            "True\n",
            "True\n",
            "True\n",
            "True\n",
            "False\n",
            "True\n",
            "False\n"
          ]
        }
      ]
    },
    {
      "cell_type": "code",
      "source": [
        "#5\n",
        "def lrgst_factor(m):\n",
        "    largest_factor = 1\n",
        "    for i in range(2, m):\n",
        "        if m % i == 0:\n",
        "            largest_factor = i\n",
        "    return largest_factor\n",
        "\n",
        "# Test cases\n",
        "print(lrgst_factor(15))  # Output: 5\n",
        "print(lrgst_factor(80))  # Output: 40"
      ],
      "metadata": {
        "id": "Ld7jrkC7-eGO"
      },
      "execution_count": null,
      "outputs": []
    },
    {
      "cell_type": "code",
      "source": [
        "#6\n",
        "def pfct_num(n):\n",
        "    if n <= 0:\n",
        "        return False\n",
        "\n",
        "    factors_sum = sum(i for i in range(1, n) if n % i == 0)\n",
        "    return factors_sum == n\n",
        "\n",
        "# Test cases\n",
        "print(pfct_num(6))   # Output: True\n",
        "print(pfct_num(8))   # Output: False\n",
        "print(pfct_num(28))  # Output: True"
      ],
      "metadata": {
        "id": "AjUN4_xZAHYq"
      },
      "execution_count": null,
      "outputs": []
    },
    {
      "cell_type": "code",
      "source": [
        "#7\n",
        "def same_ord(a, b):\n",
        "    # Count the number of bits for each number\n",
        "    a_bits = len(bin(a)) - 2  # Subtract 2 to exclude '0b' prefix\n",
        "    b_bits = len(bin(b)) - 2\n",
        "\n",
        "    # Check if the number of bits is the same for both numbers\n",
        "    return a_bits == b_bits\n",
        "\n",
        "# Test cases\n",
        "print(same_ord(50, 70))       # Output: True (2 bits for both 50 and 70)\n",
        "print(same_ord(50, 100))      # Output: False (2 bits for 50, 3 bits for 100)\n",
        "print(same_ord(1000, 100000)) # Output: False (4 bits for 1000, 6 bits for 100000)\n"
      ],
      "metadata": {
        "id": "rOmGc9MJAb6-"
      },
      "execution_count": null,
      "outputs": []
    },
    {
      "cell_type": "code",
      "source": [
        "#8\n",
        "def double_5(n):\n",
        "    \"\"\"Return True if n has two fives in a row.\"\"\"\n",
        "    n_str = str(n)\n",
        "    for i in range(len(n_str) - 1):\n",
        "        if n_str[i] == '5' and n_str[i+1] == '5':\n",
        "            return True\n",
        "    return False\n",
        "\n",
        "# Test cases\n",
        "print(double_5(5))         # Output: False\n",
        "print(double_5(55))        # Output: True\n",
        "print(double_5(550055))    # Output: True\n",
        "print(double_5(12345))     # Output: False\n",
        "print(double_5(50505050))  # Output: False"
      ],
      "metadata": {
        "id": "OOT9_NtXAn6N"
      },
      "execution_count": null,
      "outputs": []
    },
    {
      "cell_type": "code",
      "source": [
        "#9\n",
        "def uniq_digits(x):\n",
        "    unique_digits = set(str(x))\n",
        "    return len(unique_digits)\n",
        "\n",
        "# Test cases\n",
        "print(uniq_digits(8675309))   # Output: 7 (All digits are unique)\n",
        "print(uniq_digits(1313131))   # Output: 2 (1 and 3 are unique)\n",
        "print(uniq_digits(13173131))  # Output: 3 (1, 3, and 7 are unique)\n",
        "print(uniq_digits(10000))     # Output: 2 (0 and 1 are unique)\n",
        "print(uniq_digits(101))       # Output: 2 (0 and 1 are unique)\n",
        "print(uniq_digits(10))        # Output: 2 (0 and 1 are unique)\n"
      ],
      "metadata": {
        "id": "WKOllnvvAzcN"
      },
      "execution_count": null,
      "outputs": []
    },
    {
      "cell_type": "code",
      "source": [
        "#10\n",
        "def sum_proper_divisors(num):\n",
        "    divisors_sum = 1  # Start with 1 as it's always a proper divisor\n",
        "    for i in range(2, int(num**0.5) + 1):\n",
        "        if num % i == 0:\n",
        "            divisors_sum += i\n",
        "            if i != num // i:  # Check for distinct divisors\n",
        "                divisors_sum += num // i\n",
        "    return divisors_sum\n",
        "\n",
        "def amc(n):\n",
        "    num = n + 1  # Start with the next number greater than n\n",
        "    while True:\n",
        "        divisors_sum = sum_proper_divisors(num)\n",
        "        if sum_proper_divisors(divisors_sum) == num and num != divisors_sum:\n",
        "            return num\n",
        "        num += 1\n",
        "\n",
        "# Test cases\n",
        "print(amc(5))    # Output: 220\n",
        "print(amc(220))  # Output: 284\n",
        "print(amc(284))  # Output: 1184\n",
        "r = amc(5000)\n",
        "print(r)         # Output: 5020\n"
      ],
      "metadata": {
        "id": "ALuqw-XOBPnK"
      },
      "execution_count": null,
      "outputs": []
    }
  ]
}
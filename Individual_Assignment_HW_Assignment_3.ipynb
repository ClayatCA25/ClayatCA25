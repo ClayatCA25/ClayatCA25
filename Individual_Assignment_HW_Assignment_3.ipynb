{
  "nbformat": 4,
  "nbformat_minor": 0,
  "metadata": {
    "colab": {
      "provenance": [],
      "authorship_tag": "ABX9TyOY6ktYyI0nFHGQpyGtCb+m",
      "include_colab_link": true
    },
    "kernelspec": {
      "name": "python3",
      "display_name": "Python 3"
    },
    "language_info": {
      "name": "python"
    }
  },
  "cells": [
    {
      "cell_type": "markdown",
      "metadata": {
        "id": "view-in-github",
        "colab_type": "text"
      },
      "source": [
        "<a href=\"https://colab.research.google.com/github/ClayatCA25/ClayatCA25/blob/main/Individual_Assignment_HW_Assignment_3.ipynb\" target=\"_parent\"><img src=\"https://colab.research.google.com/assets/colab-badge.svg\" alt=\"Open In Colab\"/></a>"
      ]
    },
    {
      "cell_type": "code",
      "execution_count": 1,
      "metadata": {
        "colab": {
          "base_uri": "https://localhost:8080/"
        },
        "id": "8Yt-3m8GJPDm",
        "outputId": "575d9dcb-4e55-41be-80be-557a34c4a4e1"
      },
      "outputs": [
        {
          "output_type": "stream",
          "name": "stdout",
          "text": [
            "90\n",
            "70\n",
            "Insufficient funds\n"
          ]
        }
      ],
      "source": [
        "#1. Write a high order function to make withdrawal from the balance in bank\n",
        "#account by nonlocal variable.\n",
        "\n",
        "def mk_wd(balance):\n",
        "    current_balance = balance\n",
        "\n",
        "    def rem(amount):\n",
        "        nonlocal current_balance\n",
        "\n",
        "        if amount <= current_balance:\n",
        "            current_balance -= amount\n",
        "            return current_balance\n",
        "        else:\n",
        "            return 'Insufficient funds'\n",
        "\n",
        "    return rem\n",
        "\n",
        "account = mk_wd(100)\n",
        "\n",
        "print(account(10))\n",
        "print(account(20))\n",
        "print(account(100))\n"
      ]
    },
    {
      "cell_type": "code",
      "source": [
        "#2 Write a function that deletes all instances of an element from a list.\n",
        "def rm_all(elem, lst):\n",
        "    i = 0\n",
        "    while i < len(lst):\n",
        "        if lst[i] == elem:\n",
        "            del lst[i]\n",
        "        else:\n",
        "            i += 1\n",
        "\n",
        "x = [3, 1, 2, 1, 5, 1, 1, 7]\n",
        "rm_all(1, x)\n",
        "print(x)\n"
      ],
      "metadata": {
        "colab": {
          "base_uri": "https://localhost:8080/"
        },
        "id": "S-xyVVo3KNWw",
        "outputId": "cfa487d1-6fa6-4a9c-eb2b-fc15faa12e7f"
      },
      "execution_count": 7,
      "outputs": [
        {
          "output_type": "stream",
          "name": "stdout",
          "text": [
            "[3, 2, 5, 7]\n"
          ]
        }
      ]
    },
    {
      "cell_type": "code",
      "source": [],
      "metadata": {
        "id": "h-Q-DuanLejA"
      },
      "execution_count": null,
      "outputs": []
    },
    {
      "cell_type": "code",
      "source": [],
      "metadata": {
        "id": "OTqOcs8YLkKh"
      },
      "execution_count": null,
      "outputs": []
    },
    {
      "cell_type": "code",
      "source": [],
      "metadata": {
        "id": "j8_IzNiBLlte"
      },
      "execution_count": null,
      "outputs": []
    },
    {
      "cell_type": "code",
      "source": [
        "#3 Write a function that takes in three arguments x, elem, and a list, and adds as many\n",
        "#\"elem\"s to the end of the list as there are x’s.\n",
        "def add_many(x, elem, lst):\n",
        "    count_x = lst.count(x)\n",
        "    lst.extend([elem] * count_x)\n",
        "\n",
        "lst = [1, 2, 4, 2, 1]\n",
        "add_many(2, 5, lst)\n",
        "print(lst)\n"
      ],
      "metadata": {
        "colab": {
          "base_uri": "https://localhost:8080/"
        },
        "id": "iixiHaPHKYn-",
        "outputId": "e57d3977-e880-40b6-dade-b88351c7cf5c"
      },
      "execution_count": 6,
      "outputs": [
        {
          "output_type": "stream",
          "name": "stdout",
          "text": [
            "[1, 2, 4, 2, 1, 5, 5]\n"
          ]
        }
      ]
    },
    {
      "cell_type": "code",
      "source": [
        "#4 Write a function to create a new list from given a \"suits\" list and a number list\n",
        "def f(suits, numbers):\n",
        "    return [[suit, number] for suit in suits for number in numbers]\n",
        "\n",
        "print(f(['S', 'C'], [1, 2, 3]))\n",
        "print(f(['S', 'C'], [3, 2, 1]))\n",
        "print(f([], [3, 2, 1]))\n",
        "print(f(['S', 'C'], []))\n"
      ],
      "metadata": {
        "colab": {
          "base_uri": "https://localhost:8080/"
        },
        "id": "IuYeFBatKr0C",
        "outputId": "fd8d166f-4776-4495-b1dd-948127ead01f"
      },
      "execution_count": 5,
      "outputs": [
        {
          "output_type": "stream",
          "name": "stdout",
          "text": [
            "[['S', 1], ['S', 2], ['S', 3], ['C', 1], ['C', 2], ['C', 3]]\n",
            "[['S', 3], ['S', 2], ['S', 1], ['C', 3], ['C', 2], ['C', 1]]\n",
            "[]\n",
            "[]\n"
          ]
        }
      ]
    },
    {
      "cell_type": "code",
      "source": [
        "#5 Write a function to merge 2 sorted lists a and b, and then return a new list with a sorted\n",
        "#order by RECURSIVE calls\n",
        "def mrg(ls1, ls2):\n",
        "\n",
        "    if not ls1:\n",
        "        return ls2\n",
        "    elif not ls2:\n",
        "        return ls1\n",
        "    elif ls1[0] < ls2[0]:\n",
        "        return [ls1[0]] + mrg(ls1[1:], ls2)\n",
        "    else:\n",
        "        return [ls2[0]] + mrg(ls1, ls2[1:])\n",
        "\n",
        "print(mrg([1, 3, 5], [2, 4, 6]))\n",
        "print(mrg([], [2, 4, 6]))\n",
        "print(mrg([1, 2, 3], []))\n",
        "print(mrg([5, 7], [2, 4, 6]))\n"
      ],
      "metadata": {
        "colab": {
          "base_uri": "https://localhost:8080/"
        },
        "id": "n4dQt-ZjK81W",
        "outputId": "83bf0a49-3a18-42f2-8187-85f37ff22277"
      },
      "execution_count": 4,
      "outputs": [
        {
          "output_type": "stream",
          "name": "stdout",
          "text": [
            "[1, 2, 3, 4, 5, 6]\n",
            "[2, 4, 6]\n",
            "[1, 2, 3]\n",
            "[2, 4, 5, 6, 7]\n"
          ]
        }
      ]
    },
    {
      "cell_type": "code",
      "source": [
        "#6 Write the function to flatten the deep list\n",
        "def fltn(ls):\n",
        "    result = []\n",
        "    for item in ls:\n",
        "        if isinstance(item, list):\n",
        "            result.extend(fltn(item))\n",
        "        else:\n",
        "            result.append(item)\n",
        "    return result\n",
        "\n",
        "print(fltn([1, 2, 3]))\n",
        "print(fltn([1, [2, 3], 4]))\n",
        "print(fltn([[1, [1, 1]], 1, [1, 1]]))"
      ],
      "metadata": {
        "colab": {
          "base_uri": "https://localhost:8080/"
        },
        "id": "pxJ8QGQcLNKq",
        "outputId": "35ce8ede-4ab9-4985-ece2-ca8ffbbaf969"
      },
      "execution_count": 3,
      "outputs": [
        {
          "output_type": "stream",
          "name": "stdout",
          "text": [
            "[1, 2, 3]\n",
            "[1, 2, 3, 4]\n",
            "[1, 1, 1, 1, 1, 1]\n"
          ]
        }
      ]
    },
    {
      "cell_type": "code",
      "source": [
        "#7 Define a function to check if the element exists in the list or not.\n",
        "def chk_elm(lst, n):\n",
        "    for item in lst:\n",
        "        if isinstance(item, list):\n",
        "            if chk_elm(item, n):\n",
        "                return True\n",
        "        elif item == n:\n",
        "            return True\n",
        "    return False\n",
        "\n",
        "a = [[1, [2]], 3, [[4], [5, [6]]]]\n",
        "print(chk_elm(a, 6))\n"
      ],
      "metadata": {
        "colab": {
          "base_uri": "https://localhost:8080/"
        },
        "id": "1DUvjWwhLmo5",
        "outputId": "ae37964a-6b1b-4859-afbc-21930465c2ab"
      },
      "execution_count": 8,
      "outputs": [
        {
          "output_type": "stream",
          "name": "stdout",
          "text": [
            "True\n"
          ]
        }
      ]
    },
    {
      "cell_type": "code",
      "source": [
        "# 8 write a function to check whether the input argument list is symmetric or not in\n",
        "#recursive call.\n",
        "\n",
        "def sym(l):\n",
        "    if len(l) <= 1:\n",
        "        return True\n",
        "    elif l[0] != l[-1]:\n",
        "        return False\n",
        "    else:\n",
        "        return sym(l[1:-1])\n",
        "\n",
        "print(sym([]))\n",
        "print(sym([1]))\n",
        "print(sym([1, 4, 5, 1]))\n",
        "print(sym([1, 4, 4, 1]))\n",
        "print(sym(['l', 'o', 'l']))\n"
      ],
      "metadata": {
        "colab": {
          "base_uri": "https://localhost:8080/"
        },
        "id": "_9_dBlqwLxQS",
        "outputId": "a5e61a12-ad80-4fcf-9c75-ad52ed4cc00d"
      },
      "execution_count": 9,
      "outputs": [
        {
          "output_type": "stream",
          "name": "stdout",
          "text": [
            "True\n",
            "True\n",
            "False\n",
            "True\n",
            "True\n"
          ]
        }
      ]
    },
    {
      "cell_type": "code",
      "source": [
        "#9 Write a function in recursive call that takes in a list lst, a function g, and an initial\n",
        "#value m. This function will fold lst starting at the beginning. If lst is [1, 2, 3, 4, 5] then\n",
        "#the function g is applied as follows\n",
        "\n",
        "from operator import add, sub, mul\n",
        "\n",
        "def fld(lst, g, m):\n",
        "    if not lst:\n",
        "        return m\n",
        "    else:\n",
        "        return fld(lst[1:], g, g(m, lst[0]))\n",
        "\n",
        "s = [3, 2, 1]\n",
        "print(fld(s, sub, 0))\n",
        "print(fld(s, add, 0))\n",
        "print(fld(s, mul, 1))\n",
        "print(fld([], sub, 100))\n",
        "\n"
      ],
      "metadata": {
        "colab": {
          "base_uri": "https://localhost:8080/"
        },
        "id": "GSo8p1eCMSYN",
        "outputId": "f74e99e8-bdc5-4564-ea9c-da77c45cad2d"
      },
      "execution_count": 11,
      "outputs": [
        {
          "output_type": "stream",
          "name": "stdout",
          "text": [
            "-6\n",
            "6\n",
            "6\n",
            "100\n"
          ]
        }
      ]
    },
    {
      "cell_type": "code",
      "source": [
        "#10 Iplement a function to create 2D array as follows\n",
        "def crte_2d_arr(rows, columns):\n",
        "    return [['-' for _ in range(columns)] for _ in range(rows)]\n",
        "\n",
        "# Test case\n",
        "print(crte_2d_arr(3, 5))\n"
      ],
      "metadata": {
        "colab": {
          "base_uri": "https://localhost:8080/"
        },
        "id": "SF2LX3G6MptB",
        "outputId": "54034176-7082-46a7-9f64-4ab28492713d"
      },
      "execution_count": 12,
      "outputs": [
        {
          "output_type": "stream",
          "name": "stdout",
          "text": [
            "[['-', '-', '-', '-', '-'], ['-', '-', '-', '-', '-'], ['-', '-', '-', '-', '-']]\n"
          ]
        }
      ]
    }
  ]
}
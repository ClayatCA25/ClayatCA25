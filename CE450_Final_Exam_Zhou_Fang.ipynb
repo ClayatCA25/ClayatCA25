{
  "nbformat": 4,
  "nbformat_minor": 0,
  "metadata": {
    "colab": {
      "provenance": [],
      "authorship_tag": "ABX9TyMft93QEImh1Gt1iYvovxgx",
      "include_colab_link": true
    },
    "kernelspec": {
      "name": "python3",
      "display_name": "Python 3"
    },
    "language_info": {
      "name": "python"
    }
  },
  "cells": [
    {
      "cell_type": "markdown",
      "metadata": {
        "id": "view-in-github",
        "colab_type": "text"
      },
      "source": [
        "<a href=\"https://colab.research.google.com/github/ClayatCA25/ClayatCA25/blob/main/CE450_Final_Exam_Zhou_Fang.ipynb\" target=\"_parent\"><img src=\"https://colab.research.google.com/assets/colab-badge.svg\" alt=\"Open In Colab\"/></a>"
      ]
    },
    {
      "cell_type": "code",
      "source": [
        "#Part I Embedded System Design Theory"
      ],
      "metadata": {
        "id": "quLzG5EAoGrs"
      },
      "execution_count": null,
      "outputs": []
    },
    {
      "cell_type": "code",
      "execution_count": null,
      "metadata": {
        "id": "CsuR9jNVjaq_"
      },
      "outputs": [],
      "source": [
        "#1. Describe the application areas of the real time operating system (RTOS)\n",
        "#A: Real-time operating systems (RTOS) are specialized systems designed to manage\n",
        "#and control tasks with precise timing and responsiveness. They find application\n",
        "# in various industries and scenarios where strict timing requirements and reliability are crucial.\n",
        "#Key application areas of RTOS:\n",
        "\n",
        "#Embedded Systems: RTOS is extensively used in embedded systems,\n",
        "#which are dedicated computing devices designed for specific functions or tasks\n",
        "#within a larger system. Examples include consumer electronics\n",
        "#(like digital cameras, smart appliances), automotive electronics\n",
        "#(engine control units, infotainment systems), industrial automation\n",
        "#(PLCs, robotics), and medical devices (patient monitoring systems, infusion pumps).\n",
        "\n",
        "#Telecommunications: RTOS is used in telecommunications systems to handle\n",
        "#real-time tasks like signal processing, network packet routing,\n",
        "#and call control in devices like routers, switches, base stations, and gateways.\n",
        "#Telecommunication systems require precise timing and responsiveness to handle\n",
        "#data streams efficiently.\n",
        "\n",
        "#Aerospace and Defense: RTOS plays a critical role in avionics systems\n",
        "#(flight control, navigation systems), military applications (radar systems,\n",
        "#missile guidance systems), and space systems (satellites, spacecraft).\n",
        "#These systems demand strict timing and reliability to ensure safety and mission success.\n",
        "\n",
        "#Automotive Systems: In modern vehicles, RTOS is used in various control units\n",
        "#for functions like engine management, transmission control, stability control,\n",
        "#advanced driver assistance systems (ADAS), and infotainment systems. RTOS helps\n",
        "#manage real-time tasks related to safety, performance, and user experience.\n",
        "\n",
        "#Consumer Electronics**: RTOS is employed in consumer devices that require\n",
        "#real-time processing, such as smartphones (for multitasking and responsiveness)\n",
        "#, digital cameras (for image processing and capturing), and smart home devices\n",
        "# (for automation and control).\n",
        "\n",
        "#Industrial Automation: RTOS is used in industrial control systems to manage tasks\n",
        "# such as process control, motion control, and monitoring in manufacturing\n",
        "#environments. RTOS ensures precise coordination and synchronization of equipment and processes.\n",
        "\n",
        "#Medical Devices: Many medical devices rely on RTOS for critical functions like\n",
        "#patient monitoring, diagnostic equipment, infusion pumps, and surgical robots.\n",
        "#RTOS helps in ensuring timely and accurate responses to patient data and inputs.\n",
        "\n",
        "#Network Infrastructure: RTOS is used in network devices like switches, routers,\n",
        "#and firewalls to handle tasks related to data packet processing,\n",
        "#QoS (Quality of Service) management, and network security.\n",
        "#These devices require low latency and high throughput."
      ]
    },
    {
      "cell_type": "code",
      "source": [
        "#2. Explain why the middleware is needed and where\n",
        "#Middleware in Modern Software Systems\n",
        "#In the realm of software development, seamless communication and data exchange\n",
        "#between disparate applications are crucial for achieving robust functionality.\n",
        "#This is where middleware emerges as an indispensable component.\n",
        "#It acts as a software intermediary, facilitating interactions between\n",
        "#applications built with potentially diverse technologies and communication protocols.\n",
        "\n",
        "#Eliminating Integration Headaches\n",
        "#The absence of middleware would necessitate the development of custom code for\n",
        "#each application integration. This approach proves to be a significant hurdle,\n",
        "#characterized by:\n",
        "#Time-Consuming Development: Each unique integration would require dedicated development effort, significantly extending project timelines.\n",
        "#Exorbitant Costs: The resource allocation for custom integrations translates into higher development costs.\n",
        "#Maintenance Challenges: Maintaining a plethora of custom integrations becomes a complex and resource-intensive task.\n",
        "\n",
        "#By introducing middleware, these challenges become a relic of the past.\n",
        "#Middleware offers a plethora of advantages, streamlining the development\n",
        "#process and enhancing overall system robustness:\n",
        "\n",
        "#Simplified Integration: Middleware provides a standardized interface,\n",
        "#eliminating the need for custom code for each integration.\n",
        "#This fosters efficient development and reduces project lifecycles.\n",
        "\n",
        "#Ubiquitous Communication: It establishes a common communication layer, ensuring\n",
        "#applications can seamlessly interact regardless of their underlying technological foundation.\n",
        "\n",
        "#Data Transformation Powerhouse: Middleware possesses the capability to transform\n",
        "#data between different formats, guaranteeing compatibility across applications.\n",
        "\n",
        "#Enriched Functionality: It can offer a spectrum of additional functionalities,\n",
        "#including security measures, caching mechanisms, and message queuing.\n",
        "#These features contribute to improved system performance, reliability, and scalability.\n"
      ],
      "metadata": {
        "id": "sDJfbqsflB5T"
      },
      "execution_count": null,
      "outputs": []
    },
    {
      "cell_type": "code",
      "source": [
        "#3. Describe each component’s function of any operating system\n",
        "\n",
        "#An operating system (OS) serves as the foundation for all software interactions\n",
        "#on a computing device. It acts as an intermediary between the hardware and\n",
        "#software applications, ensuring efficient resource allocation, process management,\n",
        "#and user interaction. To achieve this, a well-designed OS relies on a synergistic interplay of several key components:\n",
        "\n",
        "#Process Management: This component acts as the central conductor of the system,\n",
        "#orchestrating the creation, execution, and termination of processes (running programs).\n",
        "#It efficiently allocates vital resources like CPU time and memory to ensure smooth\n",
        "#execution of processes while preventing conflicts. Additionally, process management\n",
        "#prioritizes tasks based on user requirements or system-critical functions.\n",
        "\n",
        "#Memory Management:  This component oversees the dynamic allocation and deallocation\n",
        "#of Random Access Memory (RAM) for running programs and system operations.\n",
        "#Modern OSes often employ virtual memory techniques, extending the perceived\n",
        "#memory capacity beyond physical RAM limitations. Memory management also optimizes\n",
        "#memory usage to facilitate multitasking and prevent programs from exceeding their allocated memory quota.\n",
        "\n",
        "#File Management:  This component is responsible for the creation, deletion,\n",
        "#access control, and organization of files and directories on storage devices.\n",
        "#It establishes a hierarchical file system structure that enables efficient data\n",
        "#storage, retrieval, and management.  Furthermore, file management implements\n",
        "#access control mechanisms to safeguard data security and prevent unauthorized access.\n",
        "\n",
        "#Device Management: This component acts as a bridge between the OS and various\n",
        "#hardware peripherals like printers, scanners, and storage devices. It provides\n",
        "#device drivers, which are specialized software programs that translate generic\n",
        "#OS instructions into commands specific to each device. Device management also\n",
        "#coordinates access requests to prevent conflicts and ensures efficient data transfer between devices and the system.\n",
        "\n",
        "#User Interface (UI) Management: This component provides the user interface (UI),\n",
        "#which can be text-based or graphical, for users to interact with the operating system.\n",
        "#It accepts user input through various methods, such as commands, menus, or\n",
        "#graphical elements like buttons and windows. The UI component then translates\n",
        "#these user actions into corresponding instructions for the system to execute.\n",
        "\n",
        "#Security Management: This component safeguards the system from unauthorized access,\n",
        "#malware intrusions, and other security threats. It manages user accounts and\n",
        "#enforces access control mechanisms through passwords and permission levels.\n",
        "#Additionally, security management may encompass data encryption and system integrity checks to further bolster system protection.\n"
      ],
      "metadata": {
        "id": "GZEGdVlbmLR8"
      },
      "execution_count": null,
      "outputs": []
    },
    {
      "cell_type": "code",
      "source": [
        "#4. What general functions are there in any of device drivers, including the description for each?\n",
        "#Within the intricate world of computing, device drivers serve as crucial intermediaries,\n",
        "#facilitating seamless communication between hardware peripherals and the operating system (OS).\n",
        "#These software programs play a pivotal role in ensuring efficient device operation and data exchange.\n",
        "\n",
        "#general functions performed by device drivers:\n",
        "\n",
        "#Device Initialization and Configuration:\n",
        "#Upon system boot or device connection, the corresponding driver is loaded into memory.\n",
        "#This driver then initiates the device initialization process, which encompasses\n",
        "#tasks like memory allocation, configuration of device registers\n",
        "#(internal settings that control device behavior), and verification of device\n",
        "#functionality. This ensures the device is prepared for subsequent operations.\n",
        "\n",
        "#Data Transfer and Control:\n",
        "#Device drivers act as a bridge between the high-level world of the OS and\n",
        "#applications and the low-level world of hardware devices. They translate generic\n",
        "#OS commands and application requests into device-specific instructions that the\n",
        "#hardware can comprehend. This enables the transfer of data between the device\n",
        "#and the system, such as reading data from a storage drive or sending commands to a printer.\n",
        "\n",
        "#Interrupt Handling:\n",
        "#Hardware devices often employ interrupts to signal events to the CPU.\n",
        "#These events might include the arrival of new data, completion of a task, or\n",
        "#detection of an error. The device driver is responsible for handling these\n",
        "#interrupts efficiently. When an interrupt occurs, the driver notifies the OS\n",
        "#and takes appropriate actions. This might involve processing received data,\n",
        "#resuming a paused operation, or triggering error recovery procedures.\n",
        "\n",
        "#Error Detection and Recovery:\n",
        "#Device drivers incorporate mechanisms to detect and attempt to recover from errors\n",
        "#that may arise during communication or device operation. These errors could stem\n",
        "#from issues like data corruption, unexpected device behavior, or physical malfunctions.\n",
        "#Recovery techniques might involve data retries, error correction algorithms, or\n",
        "#resetting the device. If the error is unrecoverable, the driver will notify the\n",
        "#OS for further intervention, such as displaying an error message to the user.\n",
        "\n",
        "#Power Management:\n",
        "#device drivers can contribute to power conservation strategies.\n",
        "#Modern drivers can enable features like placing devices in low-power states\n",
        "#when not actively in use (e.g., putting a hard drive into sleep mode).\n",
        "#Additionally, some drivers can optimize device performance based on power\n",
        "#consumption needs, balancing power efficiency with desired performance levels."
      ],
      "metadata": {
        "id": "6MzUYiPtnCkC"
      },
      "execution_count": null,
      "outputs": []
    },
    {
      "cell_type": "code",
      "source": [
        "#Part II Python Programming"
      ],
      "metadata": {
        "id": "1YgG-CRxn9yn"
      },
      "execution_count": null,
      "outputs": []
    },
    {
      "cell_type": "code",
      "source": [
        "#1\n",
        "def trc1(g):\n",
        "    def wrapper(*args, **kwargs):\n",
        "        print(f\"Calling {g} on argument {args[0]}\")\n",
        "        return g(*args, **kwargs)\n",
        "    return wrapper\n",
        "\n",
        "@trc1\n",
        "def sqr(x):\n",
        "    return x * x\n",
        "\n",
        "@trc1\n",
        "def sum_sqr(n):\n",
        "    total = 0\n",
        "    for i in range(1, n + 1):\n",
        "        total += sqr(i)\n",
        "    return total\n",
        "\n",
        "# Examples of using the decorated functions\n",
        "print(sqr(3))\n",
        "print(sum_sqr(3))\n"
      ],
      "metadata": {
        "colab": {
          "base_uri": "https://localhost:8080/"
        },
        "id": "RVXP6AHZoDBp",
        "outputId": "97107c9e-b9ec-4965-9ac0-de6def73714f"
      },
      "execution_count": 1,
      "outputs": [
        {
          "output_type": "stream",
          "name": "stdout",
          "text": [
            "Calling <function sqr at 0x7a569d424ca0> on argument 3\n",
            "9\n",
            "Calling <function sum_sqr at 0x7a569d424a60> on argument 3\n",
            "Calling <function sqr at 0x7a569d424ca0> on argument 1\n",
            "Calling <function sqr at 0x7a569d424ca0> on argument 2\n",
            "Calling <function sqr at 0x7a569d424ca0> on argument 3\n",
            "14\n"
          ]
        }
      ]
    },
    {
      "cell_type": "code",
      "source": [
        "#2\n",
        "def verify_add(m, ls):\n",
        "  seen = set()\n",
        "  for x in ls:\n",
        "    complement = m - x\n",
        "    if complement in seen:\n",
        "      return True\n",
        "    seen.add(x)\n",
        "  return False\n"
      ],
      "metadata": {
        "id": "wVJQ8T0Opqia"
      },
      "execution_count": 3,
      "outputs": []
    },
    {
      "cell_type": "code",
      "source": [
        "#3\n",
        "def deep_rvrs(tup):\n",
        "    if not isinstance(tup, tuple):\n",
        "        return tup\n",
        "    reversed_elements = tuple(deep_rvrs(item) for item in reversed(tup))\n",
        "    return reversed_elements\n",
        "\n",
        "# Test cases\n",
        "a = (11, 12, 13, 14)\n",
        "print(deep_rvrs(a))  # Output: (14, 13, 12, 11)\n"
      ],
      "metadata": {
        "id": "zNBlu-uRqL9N"
      },
      "execution_count": null,
      "outputs": []
    },
    {
      "cell_type": "code",
      "source": [
        "#4\n",
        "class Fibonacci:\n",
        "    def __init__(self):\n",
        "        self.val = 0\n",
        "\n",
        "    def nxt(self):\n",
        "        next_fib = Fibonacci()\n",
        "\n",
        "        if self.val == 0:\n",
        "            next_fib.val = 1\n",
        "        else:\n",
        "            next_fib.val = self.val + self.pre.val\n",
        "        next_fib.pre = self\n",
        "        return next_fib\n",
        "    def __repr__(self):\n",
        "        return str(self.val)\n",
        "\n",
        "# Test the Fibonacci class with example calls\n",
        "a = Fibonacci()\n",
        "print(a)               # Output: 0\n",
        "print(a.nxt())         # Output: 1\n",
        "print(a.nxt().nxt())   # Output: 1\n",
        "print(a.nxt().nxt().nxt())   # Output: 2\n",
        "print(a.nxt().nxt().nxt().nxt())   # Output: 3\n",
        "print(a.nxt().nxt().nxt().nxt().nxt())   # Output: 5\n",
        "print(a.nxt().nxt().nxt().nxt().nxt().nxt())   # Output: 8\n"
      ],
      "metadata": {
        "id": "ana-JVX8qoDz"
      },
      "execution_count": null,
      "outputs": []
    },
    {
      "cell_type": "code",
      "source": [
        "#5\n",
        "class Student:\n",
        "    def __init__(self, name, num_courses):\n",
        "        self.name = name\n",
        "        self.num_courses = num_courses\n",
        "\n",
        "    def __add__(self, other):\n",
        "        return self.num_courses + other.num_courses\n",
        "\n",
        "    def __str__(self):\n",
        "        return f\"{self.name} is taking {self.num_courses} course(s)\"\n",
        "\n",
        "    def __repr__(self):\n",
        "        return f\"Student('{self.name}', {self.num_courses})\"\n",
        "\n",
        "    def __lt__(self, other):\n",
        "        return self.num_courses < other.num_courses\n",
        "\n",
        "    def __eq__(self, other):\n",
        "        return self.num_courses == other.num_courses\n",
        "\n",
        "    def __ne__(self, other):\n",
        "        return self.num_courses != other.num_courses\n",
        "\n",
        "    def __gt__(self, other):\n",
        "        return self.num_courses > other.num_courses\n",
        "\n",
        "# Test cases\n",
        "a = Student('Peter', 3)\n",
        "b = Student('Mike', 4)\n",
        "c = Student('John', 5)\n",
        "d = Student('Kelvin', 3)\n",
        "\n",
        "print(a + b + d)  # Output: 10 (sum of courses taken by a, b, and d)\n",
        "print(a != d)     # Output: False (a and d are taking the same number of courses)\n",
        "print(b < c)      # Output: True (b is taking fewer courses than c)\n",
        "\n",
        "# Print string representations and debug representations\n",
        "print(a)          # Output: Peter is taking 3 course(s)\n",
        "print(repr(c))    # Output: Student('John', 5)\n"
      ],
      "metadata": {
        "id": "_xwWGuICrMzr"
      },
      "execution_count": null,
      "outputs": []
    }
  ]
}
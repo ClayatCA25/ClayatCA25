{
  "nbformat": 4,
  "nbformat_minor": 0,
  "metadata": {
    "colab": {
      "provenance": [],
      "mount_file_id": "1PGO7RuYjQWyKKfxZZaVwbjTZnwjRccy3",
      "authorship_tag": "ABX9TyODkOk57GURDiHfl2xMZFY5",
      "include_colab_link": true
    },
    "kernelspec": {
      "name": "python3",
      "display_name": "Python 3"
    },
    "language_info": {
      "name": "python"
    }
  },
  "cells": [
    {
      "cell_type": "markdown",
      "metadata": {
        "id": "view-in-github",
        "colab_type": "text"
      },
      "source": [
        "<a href=\"https://colab.research.google.com/github/ClayatCA25/ClayatCA25/blob/main/Individual_Assignment_Quiz_2_ZHOU_FANG.ipynb\" target=\"_parent\"><img src=\"https://colab.research.google.com/assets/colab-badge.svg\" alt=\"Open In Colab\"/></a>"
      ]
    },
    {
      "cell_type": "code",
      "execution_count": 11,
      "metadata": {
        "colab": {
          "base_uri": "https://localhost:8080/",
          "height": 71
        },
        "id": "P32knmhZlqR9",
        "outputId": "ba262598-85a2-44bf-8a21-a2d4db34d0b2"
      },
      "outputs": [
        {
          "output_type": "stream",
          "name": "stdout",
          "text": [
            "/content\n",
            "/content/drive/MyDrive/Colab Notebooks\n"
          ]
        },
        {
          "output_type": "execute_result",
          "data": {
            "text/plain": [
              "'/content/drive/MyDrive/Colab Notebooks'"
            ],
            "application/vnd.google.colaboratory.intrinsic+json": {
              "type": "string"
            }
          },
          "metadata": {},
          "execution_count": 11
        }
      ],
      "source": [
        "%cd /content\n",
        "%cd drive/MyDrive/Colab Notebooks\n",
        "%pwd\n"
      ]
    },
    {
      "cell_type": "code",
      "source": [
        "def decode_alternative(message_file):\n",
        " #Decodes a message from a text file using a more efficient approach.\n",
        "\n",
        "#Args:\n",
        "#message_file (str): The path to the text file containing the encoded message.\n",
        "\n",
        "#Returns:\n",
        "#str: The decoded message.\n",
        "\n",
        "#Raises:\n",
        "#FileNotFoundError: If the specified message file is not found.\n",
        "#ValueError: If the input file has an invalid format.\n",
        "\n",
        "\n",
        "  try:\n",
        "    with open(message_file, 'r') as file:\n",
        "      lines = file.readlines()\n",
        "\n",
        "    # Create a dictionary to map numbers to words\n",
        "    number_word_map = {}\n",
        "    max_number = 0  # Track the highest number encountered\n",
        "    for line in lines:\n",
        "      try:\n",
        "        number, word = line.strip().split()\n",
        "        number = int(number)\n",
        "        number_word_map[number] = word\n",
        "        max_number = max(max_number, number)\n",
        "      except ValueError:\n",
        "        raise ValueError(f\"Invalid line format in input file: {line}\")\n",
        "\n",
        "    # Calculate total message length (number of pyramid lines)\n",
        "    message_length = (max_number * (max_number + 1)) // 2\n",
        "\n",
        "    # Decode message by iterating through expected pyramid end positions\n",
        "    decoded_message = []\n",
        "    current_index = 1\n",
        "    for _ in range(message_length):\n",
        "      if current_index in number_word_map:\n",
        "        decoded_message.append(number_word_map[current_index])\n",
        "      current_index += 1\n",
        "\n",
        "    return ' '.join(decoded_message)\n",
        "\n",
        "  except FileNotFoundError:\n",
        "    raise FileNotFoundError(f\"Message file not found: {message_file}\")\n"
      ],
      "metadata": {
        "id": "cJsBZWcS1Idm"
      },
      "execution_count": 12,
      "outputs": []
    }
  ]
}
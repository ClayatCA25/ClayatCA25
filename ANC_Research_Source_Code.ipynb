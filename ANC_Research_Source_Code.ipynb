{
  "nbformat": 4,
  "nbformat_minor": 0,
  "metadata": {
    "colab": {
      "provenance": [],
      "authorship_tag": "ABX9TyNCSZjLeGr3IN7fwxSHHC5K",
      "include_colab_link": true
    },
    "kernelspec": {
      "name": "python3",
      "display_name": "Python 3"
    },
    "language_info": {
      "name": "python"
    }
  },
  "cells": [
    {
      "cell_type": "markdown",
      "metadata": {
        "id": "view-in-github",
        "colab_type": "text"
      },
      "source": [
        "<a href=\"https://colab.research.google.com/github/ClayatCA25/ClayatCA25/blob/main/ANC_Research_Source_Code.ipynb\" target=\"_parent\"><img src=\"https://colab.research.google.com/assets/colab-badge.svg\" alt=\"Open In Colab\"/></a>"
      ]
    },
    {
      "cell_type": "code",
      "execution_count": null,
      "metadata": {
        "id": "t2lERzlQomTn"
      },
      "outputs": [],
      "source": [
        "#LMS (Least Mean Squares) Algorithm example source code\n",
        "import numpy as np\n",
        "\n",
        "def lms(x, d, mu, n):\n",
        "    # x: input signal\n",
        "    # d: desired signal\n",
        "    # mu: step size\n",
        "    # n: number of iterations\n",
        "\n",
        "    M = len(x)\n",
        "    w = np.zeros(n)\n",
        "    y = np.zeros(M)\n",
        "    e = np.zeros(M)\n",
        "\n",
        "    for i in range(n, M):\n",
        "        x_vec = x[i-n:i]\n",
        "        y[i] = np.dot(w, x_vec)\n",
        "        e[i] = d[i] - y[i]\n",
        "        w = w + mu * e[i] * x_vec\n",
        "\n",
        "    return y, e, w\n",
        "\n",
        "# Example usage\n",
        "x = np.random.randn(1000)  # input signal\n",
        "d = np.sin(2 * np.pi * 0.01 * np.arange(1000))  # desired signal\n",
        "mu = 0.01  # step size\n",
        "n = 10  # number of filter coefficients\n",
        "\n",
        "y, e, w = lms(x, d, mu, n)"
      ]
    },
    {
      "cell_type": "code",
      "source": [
        "#FxLMS (Filtered-x LMS) Algorithm example source code\n",
        "import numpy as np\n",
        "\n",
        "def fxlms(x, d, mu, n, sec_path):\n",
        "    # x: input signal\n",
        "    # d: desired signal\n",
        "    # mu: step size\n",
        "    # n: number of iterations\n",
        "    # sec_path: secondary path model\n",
        "\n",
        "    M = len(x)\n",
        "    w = np.zeros(n)\n",
        "    y = np.zeros(M)\n",
        "    e = np.zeros(M)\n",
        "    x_hat = np.zeros(M)\n",
        "\n",
        "    for i in range(n, M):\n",
        "        x_vec = x[i-n:i]\n",
        "        x_hat[i] = np.dot(sec_path, x_vec)\n",
        "        y[i] = np.dot(w, x_vec)\n",
        "        e[i] = d[i] - y[i]\n",
        "        w = w + mu * e[i] * x_hat[i-n:i]\n",
        "\n",
        "    return y, e, w\n",
        "\n",
        "# Example usage\n",
        "x = np.random.randn(1000)  # input signal\n",
        "d = np.sin(2 * np.pi * 0.01 * np.arange(1000))  # desired signal\n",
        "mu = 0.01  # step size\n",
        "n = 10  # number of filter coefficients\n",
        "sec_path = np.random.randn(n)  # secondary path model\n",
        "\n",
        "y, e, w = fxlms(x, d, mu, n, sec_path)\n"
      ],
      "metadata": {
        "id": "r1zxuO6GoxLP"
      },
      "execution_count": null,
      "outputs": []
    },
    {
      "cell_type": "code",
      "source": [
        "#RLS (Recursive Least Squares) Algorithm example source code\n",
        "import numpy as np\n",
        "\n",
        "def rls(x, d, delta, lam, n):\n",
        "    # x: input signal\n",
        "    # d: desired signal\n",
        "    # delta: initial value\n",
        "    # lam: forgetting factor\n",
        "    # n: number of iterations\n",
        "\n",
        "    M = len(x)\n",
        "    w = np.zeros(n)\n",
        "    P = delta * np.eye(n)\n",
        "    y = np.zeros(M)\n",
        "    e = np.zeros(M)\n",
        "\n",
        "    for i in range(n, M):\n",
        "        x_vec = x[i-n:i]\n",
        "        y[i] = np.dot(w, x_vec)\n",
        "        e[i] = d[i] - y[i]\n",
        "        Pi = np.dot(P, x_vec)\n",
        "        k = Pi / (lam + np.dot(x_vec, Pi))\n",
        "        w = w + k * e[i]\n",
        "        P = (P - np.outer(k, Pi)) / lam\n",
        "\n",
        "    return y, e, w\n",
        "\n",
        "# Example usage\n",
        "x = np.random.randn(1000)  # input signal\n",
        "d = np.sin(2 * np.pi * 0.01 * np.arange(1000))  # desired signal\n",
        "delta = 1.0  # initial value\n",
        "lam = 0.99  # forgetting factor\n",
        "n = 10  # number of filter coefficients\n",
        "\n",
        "y, e, w = rls(x, d, delta, lam, n)\n"
      ],
      "metadata": {
        "id": "bsH4yJMQo5qu"
      },
      "execution_count": null,
      "outputs": []
    },
    {
      "cell_type": "code",
      "source": [
        "#Kalman Filter example source code\n",
        "import numpy as np\n",
        "\n",
        "def kalman_filter(x, d, Q, R):\n",
        "    # x: input signal\n",
        "    # d: desired signal\n",
        "    # Q: process noise covariance\n",
        "    # R: measurement noise covariance\n",
        "\n",
        "    n = len(x)\n",
        "    y = np.zeros(n)\n",
        "    e = np.zeros(n)\n",
        "    P = np.zeros(n)\n",
        "    K = np.zeros(n)\n",
        "\n",
        "    x_hat = 0\n",
        "    P[0] = 1\n",
        "\n",
        "    for i in range(1, n):\n",
        "        # Prediction\n",
        "        x_hat = x_hat\n",
        "        P[i] = P[i-1] + Q\n",
        "\n",
        "        # Update\n",
        "        K[i] = P[i] / (P[i] + R)\n",
        "        x_hat = x_hat + K[i] * (x[i] - x_hat)\n",
        "        P[i] = (1 - K[i]) * P[i]\n",
        "\n",
        "        y[i] = x_hat\n",
        "        e[i] = d[i] - y[i]\n",
        "\n",
        "    return y, e, K\n",
        "\n",
        "# Example usage\n",
        "x = np.random.randn(100)  # input signal\n",
        "d = np.sin(2 * np.pi * 0.01 * np.arange(100))  # desired signal\n",
        "Q = 1e-5  # process noise covariance\n",
        "R = 1e-1  # measurement noise covariance\n",
        "\n",
        "y, e, K = kalman_filter(x, d, Q, R)"
      ],
      "metadata": {
        "id": "XeTkIplUo-VN"
      },
      "execution_count": null,
      "outputs": []
    }
  ]
}